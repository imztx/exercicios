{
  "nbformat": 4,
  "nbformat_minor": 0,
  "metadata": {
    "colab": {
      "provenance": []
    },
    "kernelspec": {
      "name": "python3",
      "display_name": "Python 3"
    },
    "language_info": {
      "name": "python"
    }
  },
  "cells": [
    {
      "cell_type": "code",
      "execution_count": null,
      "metadata": {
        "colab": {
          "base_uri": "https://localhost:8080/"
        },
        "id": "XagHFLgcALw1",
        "outputId": "d9dcd99f-1753-4eb4-e83e-ec3e502780df"
      },
      "outputs": [
        {
          "output_type": "stream",
          "name": "stdout",
          "text": [
            "|root/\n",
            "----|home/\n",
            "--------|user/\n",
            "------------|arquivo1.txt\n",
            "------------|arquivo2.txt\n",
            "------------|documentos/\n",
            "----------------|arquivo3.txt\n",
            "----------------|imagens/\n",
            "--------------------|foto.jpg\n",
            "------------|musica/\n",
            "----------------|song.mp3\n",
            "----|Jogos/\n",
            "--------|jogo1\n",
            "--------|jogo2\n",
            "\n",
            "\n"
          ]
        }
      ],
      "source": [
        "class FileSystem:\n",
        "    def __init__(self, nome):\n",
        "        self.nome = nome\n",
        "        self.diretorios = []\n",
        "\n",
        "    def add_directory(self, sub_dir):\n",
        "        self.diretorios.append(sub_dir)\n",
        "\n",
        "    def add_arch(self, arquivo):\n",
        "        self.diretorios.append(arquivo)\n",
        "\n",
        "    def print_diretorio(self, level=0):\n",
        "         print(\"-\" * (level)*4 + \"|\" + self.nome)\n",
        "         for result in self.diretorios:\n",
        "          if isinstance(result, FileSystem):\n",
        "           result.print_diretorio(level+1)\n",
        "          else:\n",
        "           print('-' * (level+1)*4 + \"|\" + result)\n",
        "\n",
        "    def mover_diretorio(self, diretorio_atual, diretorio_novo):\n",
        "       diretorio_atual.diretorios.remove(self)\n",
        "       diretorio_novo.diretorios.append(self)\n",
        "\n",
        "    def remover_arch_diretorio(self, arquivo):\n",
        "     self.diretorios.remove(arquivo)\n",
        "\n",
        "\n",
        "    def encontrar_arch(self, nome, caminho = ['root/']):\n",
        "        if nome not in self.diretorios:\n",
        "            for sub_dir in self.diretorios:\n",
        "                if isinstance(sub_dir, FileSystem):\n",
        "                    caminho.append(sub_dir.nome)\n",
        "                    sub_dir.encontrar_arch(nome, caminho)\n",
        "            caminho.pop()\n",
        "        elif nome in self.diretorios:\n",
        "            path = ''\n",
        "            for i in caminho:\n",
        "                path += i\n",
        "            path += nome\n",
        "            print(path)\n",
        "            return path\n",
        "        return None\n",
        "\n",
        "\n",
        "\n",
        "root = FileSystem('root/')\n",
        "home = FileSystem('home/')\n",
        "user = FileSystem('user/')\n",
        "arquivo1 = 'arquivo1.txt'\n",
        "arquivo2 = 'arquivo2.txt'\n",
        "documentos = FileSystem('documentos/')\n",
        "arquivo3 = 'arquivo3.txt'\n",
        "imagens = FileSystem('imagens/')\n",
        "foto = 'foto.jpg'\n",
        "musica = FileSystem('musica/')\n",
        "song = 'song.mp3'\n",
        "games = FileSystem('Jogos/')\n",
        "jogo1 = 'jogo1'\n",
        "jogo2 = 'jogo2'\n",
        "\n",
        "root.add_directory(home)\n",
        "root.add_directory(games)\n",
        "\n",
        "home.add_directory(user)\n",
        "\n",
        "user.add_arch(arquivo1)\n",
        "user.add_arch(arquivo2)\n",
        "user.add_directory(documentos)\n",
        "user.add_directory(musica)\n",
        "\n",
        "documentos.add_arch(arquivo3)\n",
        "documentos.add_directory(imagens)\n",
        "\n",
        "imagens.add_arch(foto)\n",
        "\n",
        "musica.add_arch(song)\n",
        "\n",
        "games.add_arch(jogo1)\n",
        "games.add_arch(jogo2)\n",
        "\n",
        "root.print_diretorio()\n",
        "print(\"\\n\")\n"
      ]
    },
    {
      "cell_type": "code",
      "source": [
        "root.encontrar_arch(arquivo2)"
      ],
      "metadata": {
        "colab": {
          "base_uri": "https://localhost:8080/"
        },
        "id": "Es1oKkvvBHDF",
        "outputId": "c6efbe8d-0c16-4c6d-a64f-63c007fd414f"
      },
      "execution_count": null,
      "outputs": [
        {
          "output_type": "stream",
          "name": "stdout",
          "text": [
            "root/home/user/arquivo2.txt\n"
          ]
        }
      ]
    },
    {
      "cell_type": "code",
      "source": [
        "user.remover_arch_diretorio(arquivo1)\n",
        "root.print_diretorio()"
      ],
      "metadata": {
        "colab": {
          "base_uri": "https://localhost:8080/"
        },
        "id": "-Sc-ytHuBKt8",
        "outputId": "b8347c50-e5ce-4df7-9a96-c7290732c4f0"
      },
      "execution_count": null,
      "outputs": [
        {
          "output_type": "stream",
          "name": "stdout",
          "text": [
            "|root/\n",
            "----|home/\n",
            "--------|user/\n",
            "------------|arquivo2.txt\n",
            "------------|documentos/\n",
            "----------------|arquivo3.txt\n",
            "----------------|imagens/\n",
            "--------------------|foto.jpg\n",
            "------------|musica/\n",
            "----------------|song.mp3\n",
            "----|Jogos/\n",
            "--------|jogo1\n",
            "--------|jogo2\n"
          ]
        }
      ]
    },
    {
      "cell_type": "code",
      "source": [
        "documentos.mover_diretorio(user, musica)\n",
        "root.print_diretorio()"
      ],
      "metadata": {
        "colab": {
          "base_uri": "https://localhost:8080/"
        },
        "id": "AE_FWDQZBPd1",
        "outputId": "aa873295-2713-430a-8323-0a4369803880"
      },
      "execution_count": null,
      "outputs": [
        {
          "output_type": "stream",
          "name": "stdout",
          "text": [
            "|root/\n",
            "----|home/\n",
            "--------|user/\n",
            "------------|arquivo2.txt\n",
            "------------|musica/\n",
            "----------------|song.mp3\n",
            "----------------|documentos/\n",
            "--------------------|arquivo3.txt\n",
            "--------------------|imagens/\n",
            "------------------------|foto.jpg\n",
            "----|Jogos/\n",
            "--------|jogo1\n",
            "--------|jogo2\n"
          ]
        }
      ]
    }
  ]
}