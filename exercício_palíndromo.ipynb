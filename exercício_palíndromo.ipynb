{
  "nbformat": 4,
  "nbformat_minor": 0,
  "metadata": {
    "colab": {
      "provenance": []
    },
    "kernelspec": {
      "name": "python3",
      "display_name": "Python 3"
    },
    "language_info": {
      "name": "python"
    }
  },
  "cells": [
    {
      "cell_type": "code",
      "execution_count": null,
      "metadata": {
        "id": "nJAGARL6u9dy",
        "colab": {
          "base_uri": "https://localhost:8080/"
        },
        "outputId": "0f571af4-9117-4721-cfc0-874b56a697aa"
      },
      "outputs": [
        {
          "output_type": "stream",
          "name": "stdout",
          "text": [
            "\"Roma me tem amor\" é um palíndromo.\n"
          ]
        }
      ],
      "source": [
        "palinss = \"Roma me tem amor\"\n",
        "\n",
        "\n",
        "def palin(palinss):\n",
        "  frase = palinss.replace(\" \", \"\").lower()\n",
        "  pilha = []\n",
        "\n",
        "  for i in frase:\n",
        "    pilha.append(i)\n",
        "\n",
        "\n",
        "  str_invert = ''\n",
        "\n",
        "  while pilha:\n",
        "    str_invert = str_invert + pilha.pop()\n",
        "\n",
        "  return(str_invert)\n",
        "\n",
        "\n",
        "\n",
        "resuultado = palin(palinss)\n",
        "\n",
        "if resuultado == palinss.replace(\" \", \"\").lower():\n",
        "    print(f'\"{palinss}\" é um palíndromo.')\n",
        "else:\n",
        "    print(f'\"{palinss}\" não é um palíndromo.')\n"
      ]
    }
  ]
}