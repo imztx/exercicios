{
  "nbformat": 4,
  "nbformat_minor": 0,
  "metadata": {
    "colab": {
      "provenance": []
    },
    "kernelspec": {
      "name": "python3",
      "display_name": "Python 3"
    },
    "language_info": {
      "name": "python"
    }
  },
  "cells": [
    {
      "cell_type": "code",
      "execution_count": 1,
      "metadata": {
        "colab": {
          "base_uri": "https://localhost:8080/"
        },
        "id": "UbVrZNe8FCmK",
        "outputId": "b051473a-a08a-4248-9700-52ccba621643"
      },
      "outputs": [
        {
          "output_type": "stream",
          "name": "stdout",
          "text": [
            "{'nome': 'Alice', 'idade': 30, 'salário': 50000.0}\n",
            "{'nome': 'Bob', 'idade': 30, 'salário': 60000.0}\n",
            "{'nome': 'Charlie', 'idade': 30, 'salário': 60000.0}\n",
            "{'nome': 'David', 'idade': 30, 'salário': 55000.0}\n",
            "{'nome': 'Eve', 'idade': 30, 'salário': 55000.0}\n",
            "{'nome': 'Fury', 'idade': 29, 'salário': 55000.0}\n",
            "{'nome': 'Grace', 'idade': 35, 'salário': 55000.0}\n",
            "{'nome': 'Herald', 'idade': 35, 'salário': 55000.0}\n",
            "{'nome': 'Irv', 'idade': 35, 'salário': 55000.0}\n",
            "\n",
            "\n",
            "{'nome': 'Bob', 'idade': 30, 'salário': 60000.0}\n",
            "{'nome': 'Charlie', 'idade': 30, 'salário': 60000.0}\n",
            "{'nome': 'Grace', 'idade': 35, 'salário': 55000.0}\n",
            "{'nome': 'Herald', 'idade': 35, 'salário': 55000.0}\n",
            "{'nome': 'Irv', 'idade': 35, 'salário': 55000.0}\n",
            "{'nome': 'David', 'idade': 30, 'salário': 55000.0}\n",
            "{'nome': 'Eve', 'idade': 30, 'salário': 55000.0}\n",
            "{'nome': 'Fury', 'idade': 29, 'salário': 55000.0}\n",
            "{'nome': 'Alice', 'idade': 30, 'salário': 50000.0}\n"
          ]
        }
      ],
      "source": [
        "def bubble_sort_names(people):\n",
        "    n = len(people)\n",
        "    for i in range(n - 1):\n",
        "        for j in range(0, n - i - 1):\n",
        "            if people[j]['nome'] > people[j + 1]['nome']:\n",
        "                people[j], people[j + 1] = people[j + 1], people[j]\n",
        "\n",
        "def quick_sort_people(people):\n",
        "    if len(people) <= 1:\n",
        "        return people\n",
        "\n",
        "    pivot = people[0]\n",
        "    equal = [person for person in people if (person['salário'], person['idade']) == (pivot['salário'], pivot['idade'])]\n",
        "    less = [person for person in people if (person['salário'], person['idade']) < (pivot['salário'], pivot['idade'])]\n",
        "    greater = [person for person in people if (person['salário'], person['idade']) > (pivot['salário'], pivot['idade'])]\n",
        "\n",
        "    less = quick_sort_people(less)\n",
        "    greater = quick_sort_people(greater)\n",
        "\n",
        "    return greater + equal + less\n",
        "\n",
        "def sort_people(people):\n",
        "    bubble_sort_names(people)\n",
        "    sorted_people = quick_sort_people(people)\n",
        "    return sorted_people\n",
        "\n",
        "people = [\n",
        "    {'nome': 'Alice', 'idade': 30, 'salário': 50000.0},\n",
        "    {'nome': 'Bob', 'idade': 30, 'salário': 60000.0},\n",
        "    {'nome': 'Charlie', 'idade': 30, 'salário': 60000.0},\n",
        "    {'nome': 'David', 'idade': 30, 'salário': 55000.0},\n",
        "    {'nome': 'Eve', 'idade': 30, 'salário': 55000.0},\n",
        "    {'nome': 'Fury', 'idade': 29, 'salário': 55000.0},\n",
        "    {'nome': 'Grace', 'idade': 35, 'salário': 55000.0},\n",
        "    {'nome': 'Herald', 'idade': 35, 'salário': 55000.0},\n",
        "    {'nome': 'Irv', 'idade': 35, 'salário': 55000.0},\n",
        "]\n",
        "\n",
        "for person in people:\n",
        "    print(person)\n",
        "print('\\n')\n",
        "\n",
        "sorted_people = sort_people(people)\n",
        "\n",
        "for person in sorted_people:\n",
        "    print(person)"
      ]
    }
  ]
}