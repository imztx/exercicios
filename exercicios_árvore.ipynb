{
  "nbformat": 4,
  "nbformat_minor": 0,
  "metadata": {
    "colab": {
      "provenance": []
    },
    "kernelspec": {
      "name": "python3",
      "display_name": "Python 3"
    },
    "language_info": {
      "name": "python"
    }
  },
  "cells": [
    {
      "cell_type": "markdown",
      "source": [
        "Exercício 1"
      ],
      "metadata": {
        "id": "DHPyVcEzRWYi"
      }
    },
    {
      "cell_type": "code",
      "execution_count": null,
      "metadata": {
        "colab": {
          "base_uri": "https://localhost:8080/"
        },
        "id": "j4QSCR8eEF0Q",
        "outputId": "82b45fd6-cb1a-486f-8d1f-e13ffe6ba2d7"
      },
      "outputs": [
        {
          "output_type": "stream",
          "name": "stdout",
          "text": [
            "5\n",
            "---3\n",
            "------2\n",
            "---------4\n",
            "---7\n",
            "------6\n",
            "---------8\n"
          ]
        }
      ],
      "source": [
        "class Node:\n",
        "  def __init__(self, key):\n",
        "    self.right = None\n",
        "    self.left = None\n",
        "    self.val = key\n",
        "\n",
        "  def print_arvore(self, level = 0):\n",
        "    print(\"-\" * (level * 3) + str(self.val))\n",
        "    if self.left:\n",
        "      self.left.print_arvore(level + 1)\n",
        "    if self.right:\n",
        "      self.right.print_arvore(level + 1)\n",
        "\n",
        "\n",
        "def pos_order(root):\n",
        "    if root:\n",
        "      pos_order(root.left)\n",
        "\n",
        "      pos_order(root.right)\n",
        "\n",
        "      print(root.val)\n",
        "\n",
        "if __name__ == \"__main__\":\n",
        "\n",
        "  root = Node(5)\n",
        "  root.left = Node(3)\n",
        "  root.right = Node(7)\n",
        "  root.left.right = Node(2)\n",
        "  root.left.right.right = Node(4)\n",
        "  root.right.left = Node(6)\n",
        "  root.right.left.left = Node(8)\n",
        "\n",
        "root.print_arvore()"
      ]
    },
    {
      "cell_type": "markdown",
      "source": [
        "Exercício 2"
      ],
      "metadata": {
        "id": "FV5-6tA0X6WB"
      }
    },
    {
      "cell_type": "code",
      "source": [
        "class Node:\n",
        "  def __init__(self, key):\n",
        "    self.right = None\n",
        "    self.left = None\n",
        "    self.val = key\n",
        "\n",
        "def altura(node):\n",
        "  if node is None:\n",
        "    return 0\n",
        "  else:\n",
        "    altura_esq = altura(node.left)\n",
        "    altura_dir = altura(node.right)\n",
        "\n",
        "    return max(altura_esq, altura_dir) + 1\n",
        "\n",
        "if __name__ == \"__main__\":\n",
        "\n",
        "  root = Node(5)\n",
        "  root.left = Node(3)\n",
        "  root.right = Node(7)\n",
        "  root.left.right = Node(2)\n",
        "  root.left.right.right = Node(4)\n",
        "  root.right.left = Node(6)\n",
        "  root.right.left.left = Node(8)\n",
        "\n",
        "altura(root)"
      ],
      "metadata": {
        "id": "Mzl6cNKxX8uI",
        "colab": {
          "base_uri": "https://localhost:8080/"
        },
        "outputId": "da93489a-5e01-4c10-914f-a7d7446909b1"
      },
      "execution_count": null,
      "outputs": [
        {
          "output_type": "execute_result",
          "data": {
            "text/plain": [
              "4"
            ]
          },
          "metadata": {},
          "execution_count": 16
        }
      ]
    },
    {
      "cell_type": "markdown",
      "source": [
        "Exercício 3"
      ],
      "metadata": {
        "id": "77SXAr01HnH5"
      }
    },
    {
      "cell_type": "code",
      "source": [
        "class Node:\n",
        "  def __init__(self, key):\n",
        "    self.right = None\n",
        "    self.left = None\n",
        "    self.val = key\n",
        "\n",
        "  def print_arvore(self, level = 0):\n",
        "    print(\"-\" * (level * 3) + str(self.val))\n",
        "    if self.left:\n",
        "      self.left.print_arvore(level + 1)\n",
        "    if self.right:\n",
        "      self.right.print_arvore(level + 1)\n",
        "\n",
        "\n",
        "def altura(node):\n",
        "  if node is None:\n",
        "    return 0\n",
        "\n",
        "  elif node.left is None and node.right is None:\n",
        "    return 1\n",
        "\n",
        "  else:\n",
        "    altura_esq = altura(node.left)\n",
        "    altura_dir = altura(node.right)\n",
        "\n",
        "    return (altura_esq + altura_dir)\n",
        "\n",
        "if __name__ == \"__main__\":\n",
        "\n",
        "  root = Node(5)\n",
        "  root.left = Node(3)\n",
        "  root.right = Node(7)\n",
        "  root.left.right = Node(2)\n",
        "  root.left.right.right = Node(4)\n",
        "  root.right.left = Node(6)\n",
        "  root.right.left.left = Node(8)\n",
        "\n",
        "root.print_arvore()\n",
        "print(\"\\n\")\n",
        "altura(root)"
      ],
      "metadata": {
        "colab": {
          "base_uri": "https://localhost:8080/"
        },
        "id": "n_GFtr5WHoxO",
        "outputId": "6c032861-3952-47cf-fe37-a8cbfb3a33cf"
      },
      "execution_count": null,
      "outputs": [
        {
          "output_type": "stream",
          "name": "stdout",
          "text": [
            "5\n",
            "---3\n",
            "------2\n",
            "---------4\n",
            "---7\n",
            "------6\n",
            "---------8\n",
            "\n",
            "\n"
          ]
        },
        {
          "output_type": "execute_result",
          "data": {
            "text/plain": [
              "2"
            ]
          },
          "metadata": {},
          "execution_count": 4
        }
      ]
    },
    {
      "cell_type": "markdown",
      "source": [
        "Exercício 4"
      ],
      "metadata": {
        "id": "-pebex80HqO8"
      }
    },
    {
      "cell_type": "code",
      "source": [
        "class Empresa:\n",
        "  def __init__(self, data):\n",
        "    self.data = data\n",
        "    self.funcionarios = []\n",
        "\n",
        "  def add_func(self, funcionarios):\n",
        "    self.funcionarios.append(funcionarios)\n",
        "\n",
        "  def print_arvore(self, level = 0):\n",
        "    print(\"-\" * (level * 3) + self.data)\n",
        "    for i in self.funcionarios:\n",
        "      i.print_arvore(level + 1)\n",
        "\n",
        "def profundi_empresa(node):\n",
        "  if node is None:\n",
        "    return 0\n",
        "\n",
        "  if not node.funcionarios:\n",
        "    return 1\n",
        "\n",
        "  profundidade = [profundi_empresa(child) for child in node.funcionarios]\n",
        "  return 1 + max(profundidade)\n",
        "\n",
        "\n",
        "root = Empresa(\"CEO\")\n",
        "node_b = Empresa(\"MESTRE-ADM\")\n",
        "node_c = Empresa(\"ADM\")\n",
        "node_d = Empresa(\"Programador-chefe\")\n",
        "node_e = Empresa(\"Programador\")\n",
        "node_f = Empresa(\"Junior\")\n",
        "node_g = Empresa(\"Estagiário\")\n",
        "\n",
        "root.add_func(node_b)\n",
        "root.add_func(node_d)\n",
        "\n",
        "node_b.add_func(node_c)\n",
        "node_d.add_func(node_e)\n",
        "node_e.add_func(node_f)\n",
        "node_e.add_func(node_g)\n",
        "\n",
        "root.print_arvore()\n",
        "print(\"\\n\")\n",
        "profundi_empresa(root)"
      ],
      "metadata": {
        "colab": {
          "base_uri": "https://localhost:8080/"
        },
        "id": "hoswfOPTHsPe",
        "outputId": "f9240e00-4018-40e7-9159-04e9726e2ead"
      },
      "execution_count": null,
      "outputs": [
        {
          "output_type": "stream",
          "name": "stdout",
          "text": [
            "CEO\n",
            "---MESTRE-ADM\n",
            "------ADM\n",
            "---Programador-chefe\n",
            "------Programador\n",
            "---------Junior\n",
            "---------Estagiário\n",
            "\n",
            "\n"
          ]
        },
        {
          "output_type": "execute_result",
          "data": {
            "text/plain": [
              "4"
            ]
          },
          "metadata": {},
          "execution_count": 8
        }
      ]
    },
    {
      "cell_type": "markdown",
      "source": [
        "Exercício 5"
      ],
      "metadata": {
        "id": "DN3t1VVUHs8W"
      }
    },
    {
      "cell_type": "code",
      "source": [
        "class Node:\n",
        "  def __init__(self, key):\n",
        "    self.right = None\n",
        "    self.left = None\n",
        "    self.val = key\n",
        "\n",
        "  def print_arvore(self, level = 0):\n",
        "    print(\"-\" * (level * 3) + str(self.val))\n",
        "    if self.left:\n",
        "      self.left.print_arvore(level + 1)\n",
        "    if self.right:\n",
        "      self.right.print_arvore(level + 1)\n",
        "\n",
        "def altura(node):\n",
        "  if node is None:\n",
        "    return 0\n",
        "\n",
        "  elif node.left is None and node.right is None:\n",
        "    return 1\n",
        "\n",
        "  else:\n",
        "    altura_esq = altura(node.left)\n",
        "    altura_dir = altura(node.right)\n",
        "\n",
        "    if altura_esq != altura_dir:\n",
        "      return \"desbalanceado\"\n",
        "\n",
        "    else:\n",
        "      return \"balanceado\"\n",
        "\n",
        "if __name__ == \"__main__\":\n",
        "\n",
        "  root = Node(5)\n",
        "  root.left = Node(3)\n",
        "  root.right = Node(7)\n",
        "  root.left.right = Node(2)\n",
        "  root.right.left = Node(6)\n",
        "  root.right.right = Node(11)\n",
        "  root.right.left.left = Node(8)\n",
        "  root.right.left.right = Node(9)\n",
        "  root.right.left.left.right = Node(10)\n",
        "\n",
        "\n",
        "root.print_arvore()\n",
        "print(\"\\n\")\n",
        "altura(root)"
      ],
      "metadata": {
        "colab": {
          "base_uri": "https://localhost:8080/",
          "height": 226
        },
        "id": "N9vAW46iHuE-",
        "outputId": "30e1318d-7b90-4e5e-9d79-8707e59d09ce"
      },
      "execution_count": null,
      "outputs": [
        {
          "output_type": "stream",
          "name": "stdout",
          "text": [
            "5\n",
            "---3\n",
            "------2\n",
            "---7\n",
            "------6\n",
            "---------8\n",
            "------------10\n",
            "---------9\n",
            "------11\n",
            "\n",
            "\n"
          ]
        },
        {
          "output_type": "execute_result",
          "data": {
            "text/plain": [
              "'balanceado'"
            ],
            "application/vnd.google.colaboratory.intrinsic+json": {
              "type": "string"
            }
          },
          "metadata": {},
          "execution_count": 60
        }
      ]
    },
    {
      "cell_type": "markdown",
      "source": [
        "Exercício 6"
      ],
      "metadata": {
        "id": "ZKAhxWQOHug6"
      }
    },
    {
      "cell_type": "code",
      "source": [
        "import random\n",
        "\n",
        "class Node:\n",
        "  def __init__(self, key):\n",
        "    self.right = None\n",
        "    self.left = None\n",
        "    self.val = key\n",
        "\n",
        "  def print_arvore(self, level = 0):\n",
        "    print(\"-\" * (level * 3) + str(self.val))\n",
        "    if self.left:\n",
        "      self.left.print_arvore(level + 1)\n",
        "    if self.right:\n",
        "      self.right.print_arvore(level + 1)\n",
        "\n",
        "def altura(node):\n",
        "  if node is None:\n",
        "    return 0\n",
        "\n",
        "  elif node.left is None and node.right is None:\n",
        "    return 1\n",
        "\n",
        "  else:\n",
        "    altura_esq = altura(node.left)\n",
        "    altura_dir = altura(node.right)\n",
        "\n",
        "    if altura_esq != altura_dir:\n",
        "      root.left.left = Node(random.randint(0,20))\n",
        "      root.left.right = Node(random.randint(0,20))\n",
        "      return \"balanceamento pelo lado esquerdo\"\n",
        "\n",
        "    elif altura_dir != altura_esq:\n",
        "      root.right.left = Node(random.randint(0,20))\n",
        "      root.right.right = Node(random.randint(0,20))\n",
        "      return \"balanceamento pelo lado direito\"\n",
        "\n",
        "\n",
        "    else:\n",
        "      return \"balanceado\"\n",
        "\n",
        "if __name__ == \"__main__\":\n",
        "\n",
        "  root = Node(5)\n",
        "  root.left = Node(3)\n",
        "  root.right = Node(7)\n",
        "  root.left.right = Node(2)\n",
        "  root.right.left = Node(6)\n",
        "  root.right.right = Node(11)\n",
        "  root.right.left.left = Node(8)\n",
        "  root.right.left.right = Node(9)\n",
        "  root.right.left.left.right = Node(10)\n",
        "\n",
        "altura(root)\n",
        "root.print_arvore()\n",
        "print(\"\\n\")\n",
        "altura(root)"
      ],
      "metadata": {
        "colab": {
          "base_uri": "https://localhost:8080/",
          "height": 244
        },
        "id": "feJJw5auHvlZ",
        "outputId": "e6fe9951-a2cd-4127-ee79-e963ea64d12d"
      },
      "execution_count": null,
      "outputs": [
        {
          "output_type": "stream",
          "name": "stdout",
          "text": [
            "5\n",
            "---3\n",
            "------7\n",
            "------3\n",
            "---7\n",
            "------6\n",
            "---------8\n",
            "------------10\n",
            "---------9\n",
            "------11\n",
            "\n",
            "\n"
          ]
        },
        {
          "output_type": "execute_result",
          "data": {
            "text/plain": [
              "'balanceamento pelo lado esquerdo'"
            ],
            "application/vnd.google.colaboratory.intrinsic+json": {
              "type": "string"
            }
          },
          "metadata": {},
          "execution_count": 10
        }
      ]
    },
    {
      "cell_type": "markdown",
      "source": [
        "Exercício 7"
      ],
      "metadata": {
        "id": "FrFHZu_IHwLl"
      }
    },
    {
      "cell_type": "code",
      "source": [
        "class Node:\n",
        "  def __init__(self, data):\n",
        "    self.data = data\n",
        "    self.children = []\n",
        "\n",
        "  def add_child(self, child):\n",
        "    self.children.append(child)\n",
        "\n",
        "def user_breadth_first_search(node, target):\n",
        "  queue = [node]\n",
        "  visited_nodes = set()\n",
        "\n",
        "  while queue:\n",
        "    node = queue.pop(0)\n",
        "    visited_nodes.add(node.data)\n",
        "\n",
        "    if node.data == target:\n",
        "      visited_count = len(visited_nodes)\n",
        "      percent_visited = (visited_count/total_nodes) * 100\n",
        "      return [node.data], percent_visited, visited_count, visited_nodes\n",
        "\n",
        "    for child in node.children:\n",
        "      if child.data not in visited_nodes:\n",
        "        queue.append(child)\n",
        "  return None, 0, len(visited_nodes), visited_nodes\n",
        "\n",
        "\n",
        "root = Node(\"A\")\n",
        "node_b = Node(\"B\")\n",
        "node_c = Node(\"C\")\n",
        "node_d = Node(\"D\")\n",
        "node_e = Node(\"E\")\n",
        "node_f = Node(\"F\")\n",
        "node_g = Node(\"G\")\n",
        "node_h = Node(\"H\")\n",
        "node_i = Node(\"I\")\n",
        "node_j = Node(\"J\")\n",
        "node_k = Node(\"K\")\n",
        "node_w = Node(\"W\")\n",
        "node_z = Node(\"Z\")\n",
        "\n",
        "root.add_child(node_b)\n",
        "root.add_child(node_c)\n",
        "root.add_child(node_h)\n",
        "\n",
        "node_b.add_child(node_d)\n",
        "node_b.add_child(node_e)\n",
        "node_b.add_child(node_g)\n",
        "\n",
        "node_c.add_child(node_f)\n",
        "node_c.add_child(node_i)\n",
        "node_c.add_child(node_j)\n",
        "\n",
        "node_h.add_child(node_k)\n",
        "node_h.add_child(node_w)\n",
        "node_h.add_child(node_z)\n",
        "\n",
        "total_nodes = 0\n",
        "\n",
        "def count_nodes(node):\n",
        "  global total_nodes\n",
        "  total_nodes += 1\n",
        "  for child in node.children:\n",
        "    count_nodes(child)\n",
        "\n",
        "count_nodes(root)\n",
        "\n",
        "target = \"Z\"\n",
        "result_path, percent_visited, visited_count, visited_nodes = user_breadth_first_search(root, target)\n",
        "\n",
        "if result_path:\n",
        "  print(f'\\nfound {target} na arvore')\n",
        "  print(f'\\npercentual: {percent_visited:.2f}%')\n",
        "  print(f'\\ntotal de nos visitados: {visited_count}')\n",
        "  print(\"\\ntodos os nós visitdados:\",\", \".join(visited_nodes))\n",
        "else:\n",
        "  print(f'{target} nao encontrado')"
      ],
      "metadata": {
        "id": "-8upifIDHxbk",
        "colab": {
          "base_uri": "https://localhost:8080/"
        },
        "outputId": "0911ddea-4d8a-48ba-d62c-b7403e49f154"
      },
      "execution_count": null,
      "outputs": [
        {
          "output_type": "stream",
          "name": "stdout",
          "text": [
            "\n",
            "found Z na arvore\n",
            "\n",
            "percentual: 100.00%\n",
            "\n",
            "total de nos visitados: 13\n",
            "\n",
            "todos os nós visitdados: I, F, C, W, Z, G, B, H, J, E, D, A, K\n"
          ]
        }
      ]
    },
    {
      "cell_type": "markdown",
      "source": [
        "Exercício 8"
      ],
      "metadata": {
        "id": "AM0Ftq8XHx91"
      }
    },
    {
      "cell_type": "code",
      "source": [
        "class Node:\n",
        "  def __init__(self,data):\n",
        "    self.data = data\n",
        "    self.children = []\n",
        "\n",
        "  def add_child(self,child):\n",
        "    self.children.append(child)\n",
        "\n",
        "def depth_first_search(node, target):\n",
        "  if node.data == target:\n",
        "    return True\n",
        "\n",
        "  for child in node.children:\n",
        "    print(child.data)\n",
        "    if depth_first_search(child, target):\n",
        "      return True\n",
        "\n",
        "  return False\n",
        "\n",
        "root = Node(\"A\")\n",
        "node_b = Node(\"B\")\n",
        "node_c = Node(\"C\")\n",
        "node_d = Node(\"D\")\n",
        "node_e = Node(\"E\")\n",
        "node_f = Node(\"F\")\n",
        "\n",
        "root.add_child(node_b)\n",
        "root.add_child(node_c)\n",
        "\n",
        "node_b.add_child(node_d)\n",
        "node_b.add_child(node_e)\n",
        "\n",
        "node_c.add_child(node_f)\n",
        "\n",
        "target =\"F\"\n",
        "\n",
        "result = depth_first_search(root,target)\n",
        "\n",
        "if result:\n",
        "  print(f'Found {target} in the tree')\n",
        "else:\n",
        "  print(f'{target} not found in the tree')"
      ],
      "metadata": {
        "id": "HHV81ApmHzHb",
        "colab": {
          "base_uri": "https://localhost:8080/"
        },
        "outputId": "8276558d-d5b3-4ba5-fd84-6ccf0d49ed69"
      },
      "execution_count": null,
      "outputs": [
        {
          "output_type": "stream",
          "name": "stdout",
          "text": [
            "B\n",
            "D\n",
            "E\n",
            "C\n",
            "F\n",
            "Found F in the tree\n"
          ]
        }
      ]
    }
  ]
}